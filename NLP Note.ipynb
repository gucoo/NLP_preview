{
 "cells": [
  {
   "cell_type": "code",
   "execution_count": 1,
   "id": "94ba9389",
   "metadata": {},
   "outputs": [],
   "source": [
    "# NLP Overview Note"
   ]
  },
  {
   "cell_type": "code",
   "execution_count": null,
   "id": "bb188cb1",
   "metadata": {},
   "outputs": [],
   "source": [
    "import spacy\n",
    "nlp = spacy.load('en_core_web_sm')\n",
    "\n"
   ]
  },
  {
   "cell_type": "code",
   "execution_count": 43,
   "id": "4a64ec84",
   "metadata": {},
   "outputs": [],
   "source": [
    "# Section 1\n",
    "# Set up Anaconda and create the env using yml file\n",
    "# under the file address do: conda env create -f nlp_course_env.yml\n",
    "# now we can do activate/deactive that environment and do jupyter notebook"
   ]
  },
  {
   "cell_type": "code",
   "execution_count": 77,
   "id": "312f800f",
   "metadata": {},
   "outputs": [
    {
     "name": "stdout",
     "output_type": "stream",
     "text": [
      "NLP stands for Natural Language Processing\n"
     ]
    }
   ],
   "source": [
    "# Section 2 \n",
    "# Basic python text process fn\n",
    "\n",
    "abbr = 'NLP'\n",
    "full_text = 'Natural Language Processing'\n",
    "\n",
    "# Enter your code here:\n",
    "print(f'{abbr} stands for {full_text}')\n",
    "\n",
    "%%writefile contacts.txt\n",
    "First_Name Last_Name, Title, Extension, Email\n",
    "\n",
    "# Write your code here:\n",
    "with open('contacts.txt') as c:\n",
    "    fields = c.read()\n",
    "\n",
    "    \n",
    "# Run fields to see the contents of contacts.txt:\n",
    "fields\n",
    "\n"
   ]
  },
  {
   "cell_type": "code",
   "execution_count": 78,
   "id": "4d2e2193",
   "metadata": {},
   "outputs": [
    {
     "data": {
      "text/plain": [
       "['guan@gmail.com']"
      ]
     },
     "execution_count": 78,
     "metadata": {},
     "output_type": "execute_result"
    }
   ],
   "source": [
    "import re\n",
    "\n",
    "# Enter your regex pattern here. This may take several tries!\n",
    "pattern = r'\\w+@\\w+.\\w{3}'\n",
    "\n",
    "re.findall(pattern, \"page_two_text guan@gmail.com hi 919\")\n",
    "\n"
   ]
  },
  {
   "cell_type": "code",
   "execution_count": 79,
   "id": "8c2f3dba",
   "metadata": {},
   "outputs": [
    {
     "name": "stdout",
     "output_type": "stream",
     "text": [
      "Tesla PROPN nsubj\n",
      "is AUX aux\n",
      "looking VERB ROOT\n",
      "at ADP prep\n",
      "buying VERB pcomp\n",
      "U.S. PROPN compound\n",
      "startup NOUN dobj\n",
      "for ADP prep\n",
      "$ SYM quantmod\n",
      "6 NUM compound\n",
      "million NUM pobj\n"
     ]
    }
   ],
   "source": [
    "# Section 3 \n",
    "# Create a Doc object\n",
    "doc = nlp(u'Tesla is looking at buying U.S. startup for $6 million')\n",
    "\n",
    "# Print each token separately\n",
    "for token in doc:\n",
    "    print(token.text, token.pos_, token.dep_)\n"
   ]
  },
  {
   "cell_type": "code",
   "execution_count": 80,
   "id": "3ed6af5f",
   "metadata": {},
   "outputs": [
    {
     "data": {
      "text/plain": [
       "[('tok2vec', <spacy.pipeline.tok2vec.Tok2Vec at 0x7ff1ee1ee6a0>),\n",
       " ('tagger', <spacy.pipeline.tagger.Tagger at 0x7ff1ee1ee880>),\n",
       " ('parser', <spacy.pipeline.dep_parser.DependencyParser at 0x7ff1ee059430>),\n",
       " ('attribute_ruler',\n",
       "  <spacy.pipeline.attributeruler.AttributeRuler at 0x7ff1ee26a580>),\n",
       " ('lemmatizer',\n",
       "  <spacy.lang.en.lemmatizer.EnglishLemmatizer at 0x7ff1ee2ac0c0>),\n",
       " ('ner', <spacy.pipeline.ner.EntityRecognizer at 0x7ff1ee059510>)]"
      ]
     },
     "execution_count": 80,
     "metadata": {},
     "output_type": "execute_result"
    }
   ],
   "source": [
    "nlp.pipeline"
   ]
  },
  {
   "cell_type": "code",
   "execution_count": 81,
   "id": "c0ff1c97",
   "metadata": {},
   "outputs": [
    {
     "data": {
      "text/plain": [
       "['tok2vec', 'tagger', 'parser', 'attribute_ruler', 'lemmatizer', 'ner']"
      ]
     },
     "execution_count": 81,
     "metadata": {},
     "output_type": "execute_result"
    }
   ],
   "source": [
    "nlp.pipe_names"
   ]
  },
  {
   "cell_type": "code",
   "execution_count": 82,
   "id": "97a5aa1e",
   "metadata": {},
   "outputs": [
    {
     "name": "stdout",
     "output_type": "stream",
     "text": [
      "Autonomous cars\n",
      "insurance liability\n",
      "manufacturers\n"
     ]
    }
   ],
   "source": [
    "doc9 = nlp(u\"Autonomous cars shift insurance liability toward manufacturers.\")\n",
    "\n",
    "for chunk in doc9.noun_chunks:\n",
    "    print(chunk.text)"
   ]
  },
  {
   "cell_type": "code",
   "execution_count": 83,
   "id": "ba46a609",
   "metadata": {},
   "outputs": [
    {
     "data": {
      "text/html": [
       "<span class=\"tex2jax_ignore\"><div class=\"entities\" style=\"line-height: 2.5; direction: ltr\">Over \n",
       "<mark class=\"entity\" style=\"background: #bfe1d9; padding: 0.45em 0.6em; margin: 0 0.25em; line-height: 1; border-radius: 0.35em;\">\n",
       "    the last quarter\n",
       "    <span style=\"font-size: 0.8em; font-weight: bold; line-height: 1; border-radius: 0.35em; vertical-align: middle; margin-left: 0.5rem\">DATE</span>\n",
       "</mark>\n",
       " \n",
       "<mark class=\"entity\" style=\"background: #7aecec; padding: 0.45em 0.6em; margin: 0 0.25em; line-height: 1; border-radius: 0.35em;\">\n",
       "    Apple\n",
       "    <span style=\"font-size: 0.8em; font-weight: bold; line-height: 1; border-radius: 0.35em; vertical-align: middle; margin-left: 0.5rem\">ORG</span>\n",
       "</mark>\n",
       " sold \n",
       "<mark class=\"entity\" style=\"background: #e4e7d2; padding: 0.45em 0.6em; margin: 0 0.25em; line-height: 1; border-radius: 0.35em;\">\n",
       "    nearly 20 thousand\n",
       "    <span style=\"font-size: 0.8em; font-weight: bold; line-height: 1; border-radius: 0.35em; vertical-align: middle; margin-left: 0.5rem\">CARDINAL</span>\n",
       "</mark>\n",
       " \n",
       "<mark class=\"entity\" style=\"background: #bfeeb7; padding: 0.45em 0.6em; margin: 0 0.25em; line-height: 1; border-radius: 0.35em;\">\n",
       "    iPods\n",
       "    <span style=\"font-size: 0.8em; font-weight: bold; line-height: 1; border-radius: 0.35em; vertical-align: middle; margin-left: 0.5rem\">PRODUCT</span>\n",
       "</mark>\n",
       " for a profit of \n",
       "<mark class=\"entity\" style=\"background: #e4e7d2; padding: 0.45em 0.6em; margin: 0 0.25em; line-height: 1; border-radius: 0.35em;\">\n",
       "    $6 million\n",
       "    <span style=\"font-size: 0.8em; font-weight: bold; line-height: 1; border-radius: 0.35em; vertical-align: middle; margin-left: 0.5rem\">MONEY</span>\n",
       "</mark>\n",
       ".</div></span>"
      ],
      "text/plain": [
       "<IPython.core.display.HTML object>"
      ]
     },
     "metadata": {},
     "output_type": "display_data"
    }
   ],
   "source": [
    "doc = nlp(u'Over the last quarter Apple sold nearly 20 thousand iPods for a profit of $6 million.')\n",
    "displacy.render(doc, style='ent', jupyter=True)"
   ]
  },
  {
   "cell_type": "code",
   "execution_count": 84,
   "id": "218a004b",
   "metadata": {},
   "outputs": [
    {
     "name": "stdout",
     "output_type": "stream",
     "text": [
      "run --> run\n",
      "runner --> runner\n",
      "running --> run\n",
      "ran --> ran\n",
      "runs --> run\n",
      "easily --> easili\n",
      "fairly --> fairli\n"
     ]
    }
   ],
   "source": [
    "#Stemming\n",
    "# Import the toolkit and the full Porter Stemmer library\n",
    "import nltk\n",
    "\n",
    "from nltk.stem.porter import *\n",
    "p_stemmer = PorterStemmer()\n",
    "words = ['run','runner','running','ran','runs','easily','fairly']\n",
    "for word in words:\n",
    "    print(word+' --> '+p_stemmer.stem(word))"
   ]
  },
  {
   "cell_type": "code",
   "execution_count": 85,
   "id": "ccbd6032",
   "metadata": {},
   "outputs": [
    {
     "name": "stdout",
     "output_type": "stream",
     "text": [
      "I            PRON   4690420944186131903    I\n",
      "saw          VERB   11925638236994514241   see\n",
      "eighteen     NUM    9609336664675087640    eighteen\n",
      "mice         NOUN   1384165645700560590    mouse\n",
      "today        NOUN   11042482332948150395   today\n",
      "!            PUNCT  17494803046312582752   !\n"
     ]
    }
   ],
   "source": [
    "#lemma\n",
    "def show_lemmas(text):\n",
    "    for token in text:\n",
    "        print(f'{token.text:{12}} {token.pos_:{6}} {token.lemma:<{22}} {token.lemma_}')\n",
    "doc2 = nlp(u\"I saw eighteen mice today!\")\n",
    "\n",
    "show_lemmas(doc2)"
   ]
  },
  {
   "cell_type": "code",
   "execution_count": 86,
   "id": "3887e055",
   "metadata": {},
   "outputs": [
    {
     "name": "stdout",
     "output_type": "stream",
     "text": [
      "{\"'ve\", 'among', 'from', 'seeming', 'those', 'latterly', 'whether', 'amount', 'see', 'cannot', 'put', 'this', 'before', 'keep', 're', 'ours', 'two', '‘ve', 'through', 'many', 'because', 'so', 'should', 'into', 'whoever', 'less', 'fifty', 'again', 'former', 'although', 'wherein', 'already', 'very', 'well', 'above', 'beside', 'yourselves', 'towards', 'too', 'must', 'will', 'itself', 'there', 'us', 'anyhow', 'anyone', 'only', 'ten', 'get', 'ca', 'an', 'not', 'always', 'himself', 'our', 'amongst', 'becoming', 'quite', 'how', 'been', 'due', 'rather', 'she', 'eight', 'here', \"'s\", 'except', 'myself', 'them', 'per', 'anywhere', 'often', 'own', 'its', 'meanwhile', 'besides', 'could', 'until', '‘re', 'we', 'their', 'seems', 'together', '‘m', 'everywhere', 'forty', 'least', 'few', 'even', 'whereafter', 'whatever', 'sometimes', 'whom', 'when', 'somewhere', '‘s', 'back', 'n‘t', 'thru', 'these', 'for', '’re', 'somehow', 'side', 'another', 'can', 'nobody', 'nowhere', 'your', 'of', 'beyond', 'take', 'was', 'one', 'indeed', 'over', 'thereupon', 'otherwise', 'twenty', 'six', 'give', 'sixty', 'however', 'each', 'mostly', \"n't\", 'if', 'they', 'same', 'else', 'formerly', 'thence', 'never', '’ve', 'both', 'my', 'at', 'whole', 'say', 'while', 'moreover', 'latter', 'more', 'third', 'it', 'almost', 'nor', 'that', 'seem', 'with', 'between', 'themselves', 'his', 'may', 'really', 'whenever', 'behind', 'as', 'nine', '‘ll', 'become', 'something', 'once', 'other', 'mine', 'someone', 'does', 'several', 'being', 'had', 'hundred', 'via', 'others', 'thereafter', 'go', 'therefore', 'yet', 'then', 'within', '’ll', 'the', 'below', 'about', 'namely', 'beforehand', '’m', 'bottom', 'ourselves', 'some', 'after', 'further', 'off', 'onto', 'everything', 'seemed', 'sometime', 'during', 'three', 'using', 'than', 'part', \"'ll\", 'move', 'anyway', 'done', 'regarding', 'where', 'am', 'her', 'you', 'whither', 'around', 'please', 'eleven', 'has', 'enough', 'throughout', 'still', 'nevertheless', 'across', 'why', 'are', 'him', 'or', 'yours', 'and', 'used', 'such', 'hereby', 'elsewhere', 'next', 'be', 'front', 'since', 'do', 'neither', 'also', 'twelve', 'nothing', 'all', 'might', 'unless', 'upon', 'whereupon', 'show', 'hereupon', 'much', 'but', 'would', 'ever', 'make', 'none', 'everyone', 'either', 'no', 'a', 'now', 'top', 'down', 'fifteen', 'hereafter', 'four', 'whose', 'any', 'whereby', 'every', 'what', 'whence', 'therein', 'wherever', 'full', 'who', 'doing', 'five', 'without', 'n’t', 'were', 'i', 'became', 'yourself', \"'d\", 'hence', 'various', 'is', 'last', 'becomes', 'on', \"'re\", 'call', 'along', 'in', 'against', 'herself', '’s', 'up', 'made', 'serious', 'under', '’d', 'me', 'hers', 'though', 'he', 'thereby', 'did', 'just', 'herein', 'alone', 'whereas', 'empty', 'afterwards', 'by', 'have', 'name', 'thus', \"'m\", 'to', 'perhaps', 'out', 'toward', 'which', 'first', '‘d', 'anything', 'noone', 'most'}\n"
     ]
    }
   ],
   "source": [
    "#stop word - for add & remove\n",
    "print(nlp.Defaults.stop_words)"
   ]
  },
  {
   "cell_type": "code",
   "execution_count": 46,
   "id": "b3370a5c",
   "metadata": {},
   "outputs": [],
   "source": [
    "# Section 4 "
   ]
  },
  {
   "cell_type": "code",
   "execution_count": 47,
   "id": "bb33ca93",
   "metadata": {},
   "outputs": [],
   "source": [
    "# Section 4.1 \n",
    "\n",
    "# POS[part of speech]\n",
    "# Words' meaning diff by the order and other words surronding around it]\n",
    "# coarse POS (n,v,adj)+ find-grained tags (plural n,past-tense v,superlative adj)"
   ]
  },
  {
   "cell_type": "code",
   "execution_count": 48,
   "id": "e4bd4635",
   "metadata": {},
   "outputs": [
    {
     "name": "stdout",
     "output_type": "stream",
     "text": [
      "The small brown dog jumped over the lazy cat;s back last night\n"
     ]
    }
   ],
   "source": [
    "doc=nlp(u\"The small brown dog jumped over the lazy cat;s back last night\")\n",
    "print(doc.text)#sting text"
   ]
  },
  {
   "cell_type": "code",
   "execution_count": 49,
   "id": "db49f2d7",
   "metadata": {},
   "outputs": [
    {
     "name": "stdout",
     "output_type": "stream",
     "text": [
      "jumped\n",
      "jumped\n",
      "VERB\n",
      "VBD\n"
     ]
    }
   ],
   "source": [
    "#token at index \n",
    "print(doc[4])\n",
    "#token at index text\n",
    "print(doc[4].text)\n",
    "#speech text\n",
    "print(doc[4].pos_)\n",
    "#tag on fine-grained POS[part of speech] tag\n",
    "print(doc[4].tag_)\n",
    "\n",
    "#look at the chart: past tense verb"
   ]
  },
  {
   "cell_type": "code",
   "execution_count": 50,
   "id": "ef2684bf",
   "metadata": {},
   "outputs": [
    {
     "name": "stdout",
     "output_type": "stream",
     "text": [
      "The       DET       DT        determiner\n",
      "small     ADJ       JJ        adjective (English), other noun-modifier (Chinese)\n",
      "brown     ADJ       JJ        adjective (English), other noun-modifier (Chinese)\n",
      "dog       NOUN      NN        noun, singular or mass\n",
      "jumped    VERB      VBD       verb, past tense\n",
      "over      ADP       IN        conjunction, subordinating or preposition\n",
      "the       DET       DT        determiner\n",
      "lazy      ADJ       JJ        adjective (English), other noun-modifier (Chinese)\n",
      "cat;s     NOUN      NN        noun, singular or mass\n",
      "back      ADV       RB        adverb    \n",
      "last      ADJ       JJ        adjective (English), other noun-modifier (Chinese)\n",
      "night     NOUN      NN        noun, singular or mass\n"
     ]
    }
   ],
   "source": [
    "for token in doc:\n",
    "    print(f\"{token.text:{10}}{token.pos_:{10}}{token.tag_:{10}}{spacy.explain(token.tag_):{10}}\")"
   ]
  },
  {
   "cell_type": "code",
   "execution_count": 51,
   "id": "4e1550c2",
   "metadata": {},
   "outputs": [
    {
     "name": "stdout",
     "output_type": "stream",
     "text": [
      "read      VERB      VBP       verb, non-3rd person singular present\n"
     ]
    }
   ],
   "source": [
    "doc=nlp(u\"I read books on nlp.\")\n",
    "token=doc[1]\n",
    "print(f\"{token.text:{10}}{token.pos_:{10}}{token.tag_:{10}}{spacy.explain(token.tag_):{10}}\")"
   ]
  },
  {
   "cell_type": "code",
   "execution_count": 52,
   "id": "c9b735e9",
   "metadata": {},
   "outputs": [
    {
     "name": "stdout",
     "output_type": "stream",
     "text": [
      "read      VERB      VBD       verb, past tense\n"
     ]
    }
   ],
   "source": [
    "doc=nlp(u\"I read a book on nlp.\")\n",
    "token=doc[1]\n",
    "print(f\"{token.text:{10}}{token.pos_:{10}}{token.tag_:{10}}{spacy.explain(token.tag_):{10}}\")"
   ]
  },
  {
   "cell_type": "code",
   "execution_count": null,
   "id": "a44b6a50",
   "metadata": {},
   "outputs": [],
   "source": []
  },
  {
   "cell_type": "code",
   "execution_count": 53,
   "id": "edd7c1c4",
   "metadata": {},
   "outputs": [
    {
     "data": {
      "text/plain": [
       "{90: 2, 84: 3, 92: 2, 100: 1, 85: 1, 94: 1, 86: 1}"
      ]
     },
     "execution_count": 53,
     "metadata": {},
     "output_type": "execute_result"
    }
   ],
   "source": [
    "doc=nlp(u\"The small brown dog jumped over the lazy cat's back\")\n",
    "POS_COUNTS = doc.count_by(spacy.attrs.POS)\n",
    "POS_COUNTS\n",
    "#3 ADJ(84)"
   ]
  },
  {
   "cell_type": "code",
   "execution_count": 54,
   "id": "70f78d55",
   "metadata": {},
   "outputs": [
    {
     "name": "stdout",
     "output_type": "stream",
     "text": [
      "brown\n",
      "84\n",
      "ADJ\n"
     ]
    }
   ],
   "source": [
    "print(doc[2])\n",
    "print(doc[2].pos)\n",
    "print(doc[2].pos_)"
   ]
  },
  {
   "cell_type": "code",
   "execution_count": 55,
   "id": "db3eee73",
   "metadata": {},
   "outputs": [
    {
     "name": "stdout",
     "output_type": "stream",
     "text": [
      "84.ADJ  3\n",
      "85.ADP  1\n",
      "86.ADV  1\n",
      "90.DET  2\n",
      "92.NOUN 2\n",
      "94.PART 1\n",
      "100.VERB 1\n"
     ]
    }
   ],
   "source": [
    "for k,v in sorted(POS_COUNTS.items()):\n",
    "    print(f\"{k}.{doc.vocab[k].text:{5}}{v}\")"
   ]
  },
  {
   "cell_type": "code",
   "execution_count": 56,
   "id": "761d3969",
   "metadata": {},
   "outputs": [
    {
     "name": "stdout",
     "output_type": "stream",
     "text": [
      "74.POS  1\n",
      "164681854541413346.RB   1\n",
      "1292078113972184607.IN   1\n",
      "10554686591937588953.JJ   3\n",
      "15267657372422890137.DT   2\n",
      "15308085513773655218.NN   2\n",
      "17109001835818727656.VBD  1\n"
     ]
    }
   ],
   "source": [
    "tag_COUNTS = doc.count_by(spacy.attrs.TAG)\n",
    "for k,v in sorted(tag_COUNTS.items()):\n",
    "    print(f\"{k}.{doc.vocab[k].text:{5}}{v}\")"
   ]
  },
  {
   "cell_type": "code",
   "execution_count": 57,
   "id": "b3171a99",
   "metadata": {},
   "outputs": [
    {
     "data": {
      "text/plain": [
       "808"
      ]
     },
     "execution_count": 57,
     "metadata": {},
     "output_type": "execute_result"
    }
   ],
   "source": [
    "len(doc.vocab)"
   ]
  },
  {
   "cell_type": "code",
   "execution_count": 58,
   "id": "f0060042",
   "metadata": {},
   "outputs": [
    {
     "name": "stdout",
     "output_type": "stream",
     "text": [
      "400.advmod1\n",
      "402.amod 3\n",
      "415.det  2\n",
      "429.nsubj1\n",
      "439.pobj 1\n",
      "443.prep 1\n",
      "8110129090154140942.case 1\n",
      "8206900633647566924.ROOT 1\n"
     ]
    }
   ],
   "source": [
    "dep_COUNTS = doc.count_by(spacy.attrs.DEP)\n",
    "for k,v in sorted(dep_COUNTS.items()):\n",
    "    print(f\"{k}.{doc.vocab[k].text:{5}}{v}\")"
   ]
  },
  {
   "cell_type": "code",
   "execution_count": 59,
   "id": "4dd0261e",
   "metadata": {},
   "outputs": [
    {
     "data": {
      "text/html": [
       "<span class=\"tex2jax_ignore\"><svg xmlns=\"http://www.w3.org/2000/svg\" xmlns:xlink=\"http://www.w3.org/1999/xlink\" xml:lang=\"en\" id=\"d7a5a121637445fcaff3b841bdeff059-0\" class=\"displacy\" width=\"1260\" height=\"357.0\" direction=\"ltr\" style=\"max-width: none; height: 357.0px; color: yellow; background: #09a3d5; font-family: Times; direction: ltr\">\n",
       "<text class=\"displacy-token\" fill=\"currentColor\" text-anchor=\"middle\" y=\"267.0\">\n",
       "    <tspan class=\"displacy-word\" fill=\"currentColor\" x=\"50\">The</tspan>\n",
       "    <tspan class=\"displacy-tag\" dy=\"2em\" fill=\"currentColor\" x=\"50\">DET</tspan>\n",
       "</text>\n",
       "\n",
       "<text class=\"displacy-token\" fill=\"currentColor\" text-anchor=\"middle\" y=\"267.0\">\n",
       "    <tspan class=\"displacy-word\" fill=\"currentColor\" x=\"160\">small</tspan>\n",
       "    <tspan class=\"displacy-tag\" dy=\"2em\" fill=\"currentColor\" x=\"160\">ADJ</tspan>\n",
       "</text>\n",
       "\n",
       "<text class=\"displacy-token\" fill=\"currentColor\" text-anchor=\"middle\" y=\"267.0\">\n",
       "    <tspan class=\"displacy-word\" fill=\"currentColor\" x=\"270\">brown</tspan>\n",
       "    <tspan class=\"displacy-tag\" dy=\"2em\" fill=\"currentColor\" x=\"270\">ADJ</tspan>\n",
       "</text>\n",
       "\n",
       "<text class=\"displacy-token\" fill=\"currentColor\" text-anchor=\"middle\" y=\"267.0\">\n",
       "    <tspan class=\"displacy-word\" fill=\"currentColor\" x=\"380\">dog</tspan>\n",
       "    <tspan class=\"displacy-tag\" dy=\"2em\" fill=\"currentColor\" x=\"380\">NOUN</tspan>\n",
       "</text>\n",
       "\n",
       "<text class=\"displacy-token\" fill=\"currentColor\" text-anchor=\"middle\" y=\"267.0\">\n",
       "    <tspan class=\"displacy-word\" fill=\"currentColor\" x=\"490\">jumped</tspan>\n",
       "    <tspan class=\"displacy-tag\" dy=\"2em\" fill=\"currentColor\" x=\"490\">VERB</tspan>\n",
       "</text>\n",
       "\n",
       "<text class=\"displacy-token\" fill=\"currentColor\" text-anchor=\"middle\" y=\"267.0\">\n",
       "    <tspan class=\"displacy-word\" fill=\"currentColor\" x=\"600\">over</tspan>\n",
       "    <tspan class=\"displacy-tag\" dy=\"2em\" fill=\"currentColor\" x=\"600\">ADP</tspan>\n",
       "</text>\n",
       "\n",
       "<text class=\"displacy-token\" fill=\"currentColor\" text-anchor=\"middle\" y=\"267.0\">\n",
       "    <tspan class=\"displacy-word\" fill=\"currentColor\" x=\"710\">the</tspan>\n",
       "    <tspan class=\"displacy-tag\" dy=\"2em\" fill=\"currentColor\" x=\"710\">DET</tspan>\n",
       "</text>\n",
       "\n",
       "<text class=\"displacy-token\" fill=\"currentColor\" text-anchor=\"middle\" y=\"267.0\">\n",
       "    <tspan class=\"displacy-word\" fill=\"currentColor\" x=\"820\">lazy</tspan>\n",
       "    <tspan class=\"displacy-tag\" dy=\"2em\" fill=\"currentColor\" x=\"820\">ADJ</tspan>\n",
       "</text>\n",
       "\n",
       "<text class=\"displacy-token\" fill=\"currentColor\" text-anchor=\"middle\" y=\"267.0\">\n",
       "    <tspan class=\"displacy-word\" fill=\"currentColor\" x=\"930\">cat</tspan>\n",
       "    <tspan class=\"displacy-tag\" dy=\"2em\" fill=\"currentColor\" x=\"930\">NOUN</tspan>\n",
       "</text>\n",
       "\n",
       "<text class=\"displacy-token\" fill=\"currentColor\" text-anchor=\"middle\" y=\"267.0\">\n",
       "    <tspan class=\"displacy-word\" fill=\"currentColor\" x=\"1040\">'s</tspan>\n",
       "    <tspan class=\"displacy-tag\" dy=\"2em\" fill=\"currentColor\" x=\"1040\">PART</tspan>\n",
       "</text>\n",
       "\n",
       "<text class=\"displacy-token\" fill=\"currentColor\" text-anchor=\"middle\" y=\"267.0\">\n",
       "    <tspan class=\"displacy-word\" fill=\"currentColor\" x=\"1150\">back</tspan>\n",
       "    <tspan class=\"displacy-tag\" dy=\"2em\" fill=\"currentColor\" x=\"1150\">ADV</tspan>\n",
       "</text>\n",
       "\n",
       "<g class=\"displacy-arrow\">\n",
       "    <path class=\"displacy-arc\" id=\"arrow-d7a5a121637445fcaff3b841bdeff059-0-0\" stroke-width=\"2px\" d=\"M62,222.0 62,167.0 377.0,167.0 377.0,222.0\" fill=\"none\" stroke=\"currentColor\"/>\n",
       "    <text dy=\"1.25em\" style=\"font-size: 0.8em; letter-spacing: 1px\">\n",
       "        <textPath xlink:href=\"#arrow-d7a5a121637445fcaff3b841bdeff059-0-0\" class=\"displacy-label\" startOffset=\"50%\" side=\"left\" fill=\"currentColor\" text-anchor=\"middle\">det</textPath>\n",
       "    </text>\n",
       "    <path class=\"displacy-arrowhead\" d=\"M62,224.0 L58,216.0 66,216.0\" fill=\"currentColor\"/>\n",
       "</g>\n",
       "\n",
       "<g class=\"displacy-arrow\">\n",
       "    <path class=\"displacy-arc\" id=\"arrow-d7a5a121637445fcaff3b841bdeff059-0-1\" stroke-width=\"2px\" d=\"M172,222.0 172,185.33333333333334 374.0,185.33333333333334 374.0,222.0\" fill=\"none\" stroke=\"currentColor\"/>\n",
       "    <text dy=\"1.25em\" style=\"font-size: 0.8em; letter-spacing: 1px\">\n",
       "        <textPath xlink:href=\"#arrow-d7a5a121637445fcaff3b841bdeff059-0-1\" class=\"displacy-label\" startOffset=\"50%\" side=\"left\" fill=\"currentColor\" text-anchor=\"middle\">amod</textPath>\n",
       "    </text>\n",
       "    <path class=\"displacy-arrowhead\" d=\"M172,224.0 L168,216.0 176,216.0\" fill=\"currentColor\"/>\n",
       "</g>\n",
       "\n",
       "<g class=\"displacy-arrow\">\n",
       "    <path class=\"displacy-arc\" id=\"arrow-d7a5a121637445fcaff3b841bdeff059-0-2\" stroke-width=\"2px\" d=\"M282,222.0 282,203.66666666666666 371.0,203.66666666666666 371.0,222.0\" fill=\"none\" stroke=\"currentColor\"/>\n",
       "    <text dy=\"1.25em\" style=\"font-size: 0.8em; letter-spacing: 1px\">\n",
       "        <textPath xlink:href=\"#arrow-d7a5a121637445fcaff3b841bdeff059-0-2\" class=\"displacy-label\" startOffset=\"50%\" side=\"left\" fill=\"currentColor\" text-anchor=\"middle\">amod</textPath>\n",
       "    </text>\n",
       "    <path class=\"displacy-arrowhead\" d=\"M282,224.0 L278,216.0 286,216.0\" fill=\"currentColor\"/>\n",
       "</g>\n",
       "\n",
       "<g class=\"displacy-arrow\">\n",
       "    <path class=\"displacy-arc\" id=\"arrow-d7a5a121637445fcaff3b841bdeff059-0-3\" stroke-width=\"2px\" d=\"M392,222.0 392,203.66666666666666 481.0,203.66666666666666 481.0,222.0\" fill=\"none\" stroke=\"currentColor\"/>\n",
       "    <text dy=\"1.25em\" style=\"font-size: 0.8em; letter-spacing: 1px\">\n",
       "        <textPath xlink:href=\"#arrow-d7a5a121637445fcaff3b841bdeff059-0-3\" class=\"displacy-label\" startOffset=\"50%\" side=\"left\" fill=\"currentColor\" text-anchor=\"middle\">nsubj</textPath>\n",
       "    </text>\n",
       "    <path class=\"displacy-arrowhead\" d=\"M392,224.0 L388,216.0 396,216.0\" fill=\"currentColor\"/>\n",
       "</g>\n",
       "\n",
       "<g class=\"displacy-arrow\">\n",
       "    <path class=\"displacy-arc\" id=\"arrow-d7a5a121637445fcaff3b841bdeff059-0-4\" stroke-width=\"2px\" d=\"M502,222.0 502,203.66666666666666 591.0,203.66666666666666 591.0,222.0\" fill=\"none\" stroke=\"currentColor\"/>\n",
       "    <text dy=\"1.25em\" style=\"font-size: 0.8em; letter-spacing: 1px\">\n",
       "        <textPath xlink:href=\"#arrow-d7a5a121637445fcaff3b841bdeff059-0-4\" class=\"displacy-label\" startOffset=\"50%\" side=\"left\" fill=\"currentColor\" text-anchor=\"middle\">prep</textPath>\n",
       "    </text>\n",
       "    <path class=\"displacy-arrowhead\" d=\"M591.0,224.0 L595.0,216.0 587.0,216.0\" fill=\"currentColor\"/>\n",
       "</g>\n",
       "\n",
       "<g class=\"displacy-arrow\">\n",
       "    <path class=\"displacy-arc\" id=\"arrow-d7a5a121637445fcaff3b841bdeff059-0-5\" stroke-width=\"2px\" d=\"M722,222.0 722,185.33333333333334 924.0,185.33333333333334 924.0,222.0\" fill=\"none\" stroke=\"currentColor\"/>\n",
       "    <text dy=\"1.25em\" style=\"font-size: 0.8em; letter-spacing: 1px\">\n",
       "        <textPath xlink:href=\"#arrow-d7a5a121637445fcaff3b841bdeff059-0-5\" class=\"displacy-label\" startOffset=\"50%\" side=\"left\" fill=\"currentColor\" text-anchor=\"middle\">det</textPath>\n",
       "    </text>\n",
       "    <path class=\"displacy-arrowhead\" d=\"M722,224.0 L718,216.0 726,216.0\" fill=\"currentColor\"/>\n",
       "</g>\n",
       "\n",
       "<g class=\"displacy-arrow\">\n",
       "    <path class=\"displacy-arc\" id=\"arrow-d7a5a121637445fcaff3b841bdeff059-0-6\" stroke-width=\"2px\" d=\"M832,222.0 832,203.66666666666666 921.0,203.66666666666666 921.0,222.0\" fill=\"none\" stroke=\"currentColor\"/>\n",
       "    <text dy=\"1.25em\" style=\"font-size: 0.8em; letter-spacing: 1px\">\n",
       "        <textPath xlink:href=\"#arrow-d7a5a121637445fcaff3b841bdeff059-0-6\" class=\"displacy-label\" startOffset=\"50%\" side=\"left\" fill=\"currentColor\" text-anchor=\"middle\">amod</textPath>\n",
       "    </text>\n",
       "    <path class=\"displacy-arrowhead\" d=\"M832,224.0 L828,216.0 836,216.0\" fill=\"currentColor\"/>\n",
       "</g>\n",
       "\n",
       "<g class=\"displacy-arrow\">\n",
       "    <path class=\"displacy-arc\" id=\"arrow-d7a5a121637445fcaff3b841bdeff059-0-7\" stroke-width=\"2px\" d=\"M612,222.0 612,167.0 927.0,167.0 927.0,222.0\" fill=\"none\" stroke=\"currentColor\"/>\n",
       "    <text dy=\"1.25em\" style=\"font-size: 0.8em; letter-spacing: 1px\">\n",
       "        <textPath xlink:href=\"#arrow-d7a5a121637445fcaff3b841bdeff059-0-7\" class=\"displacy-label\" startOffset=\"50%\" side=\"left\" fill=\"currentColor\" text-anchor=\"middle\">pobj</textPath>\n",
       "    </text>\n",
       "    <path class=\"displacy-arrowhead\" d=\"M927.0,224.0 L931.0,216.0 923.0,216.0\" fill=\"currentColor\"/>\n",
       "</g>\n",
       "\n",
       "<g class=\"displacy-arrow\">\n",
       "    <path class=\"displacy-arc\" id=\"arrow-d7a5a121637445fcaff3b841bdeff059-0-8\" stroke-width=\"2px\" d=\"M942,222.0 942,203.66666666666666 1031.0,203.66666666666666 1031.0,222.0\" fill=\"none\" stroke=\"currentColor\"/>\n",
       "    <text dy=\"1.25em\" style=\"font-size: 0.8em; letter-spacing: 1px\">\n",
       "        <textPath xlink:href=\"#arrow-d7a5a121637445fcaff3b841bdeff059-0-8\" class=\"displacy-label\" startOffset=\"50%\" side=\"left\" fill=\"currentColor\" text-anchor=\"middle\">case</textPath>\n",
       "    </text>\n",
       "    <path class=\"displacy-arrowhead\" d=\"M1031.0,224.0 L1035.0,216.0 1027.0,216.0\" fill=\"currentColor\"/>\n",
       "</g>\n",
       "\n",
       "<g class=\"displacy-arrow\">\n",
       "    <path class=\"displacy-arc\" id=\"arrow-d7a5a121637445fcaff3b841bdeff059-0-9\" stroke-width=\"2px\" d=\"M502,222.0 502,148.66666666666669 1150.0,148.66666666666669 1150.0,222.0\" fill=\"none\" stroke=\"currentColor\"/>\n",
       "    <text dy=\"1.25em\" style=\"font-size: 0.8em; letter-spacing: 1px\">\n",
       "        <textPath xlink:href=\"#arrow-d7a5a121637445fcaff3b841bdeff059-0-9\" class=\"displacy-label\" startOffset=\"50%\" side=\"left\" fill=\"currentColor\" text-anchor=\"middle\">advmod</textPath>\n",
       "    </text>\n",
       "    <path class=\"displacy-arrowhead\" d=\"M1150.0,224.0 L1154.0,216.0 1146.0,216.0\" fill=\"currentColor\"/>\n",
       "</g>\n",
       "</svg></span>"
      ],
      "text/plain": [
       "<IPython.core.display.HTML object>"
      ]
     },
     "metadata": {},
     "output_type": "display_data"
    }
   ],
   "source": [
    "# Section 4.1 Visdualization\n",
    "doc=nlp(u\"The small brown dog jumped over the lazy cat's back\")\n",
    "from spacy import displacy\n",
    "options={'distance':110,'compact':'True','color':'yellow','bg':'#09a3d5','font':'Times'}\n",
    "displacy.render(doc,style='dep',jupyter= True,options=options)\n",
    "#or serve on 5000"
   ]
  },
  {
   "cell_type": "code",
   "execution_count": 68,
   "id": "6dd6a122",
   "metadata": {},
   "outputs": [
    {
     "name": "stdout",
     "output_type": "stream",
     "text": [
      "NO entities found\n",
      "Mary - PERSON - People, including fictional\n",
      "John - PERSON - People, including fictional\n",
      "5 - MONEY - Monetary values, including unit\n"
     ]
    }
   ],
   "source": [
    "# section 4.2\n",
    "\n",
    "# NER name-entity recognition (NER) \n",
    "# such as person names,orga name, loc, med code, time expr...\n",
    "\n",
    "def show_ents(doc):\n",
    "    if doc.ents:\n",
    "        for ent in doc.ents:\n",
    "            print(ent.text+' - '+ent.label_+' - '+str(spacy.explain(ent.label_)))\n",
    "    else:\n",
    "        print(\"NO entities found\")\n",
    "\n",
    "doc=nlp(u\"HelloFresh\")\n",
    "show_ents(doc)\n",
    "doc=nlp(u\"Mary and John has $5 \")\n",
    "show_ents(doc)"
   ]
  },
  {
   "cell_type": "code",
   "execution_count": 71,
   "id": "41ef4ff7",
   "metadata": {},
   "outputs": [
    {
     "name": "stdout",
     "output_type": "stream",
     "text": [
      "HelloFresh - ORG - Companies, agencies, institutions, etc.\n"
     ]
    }
   ],
   "source": [
    "# add entity\n",
    "from spacy.tokens import Span\n",
    "doc=nlp(u\"HelloFresh\")\n",
    "new_ent = Span(doc,0,1,label=(doc.vocab.strings[u\"ORG\"]))\n",
    "doc.ents = list(doc.ents)+[new_ent]\n",
    "\n",
    "show_ents(doc)"
   ]
  },
  {
   "cell_type": "code",
   "execution_count": 72,
   "id": "327b8f4f",
   "metadata": {},
   "outputs": [
    {
     "data": {
      "text/plain": [
       "HelloFresh"
      ]
     },
     "execution_count": 72,
     "metadata": {},
     "output_type": "execute_result"
    }
   ],
   "source": [
    "new_ent"
   ]
  },
  {
   "cell_type": "code",
   "execution_count": 76,
   "id": "2dbf981c",
   "metadata": {},
   "outputs": [
    {
     "data": {
      "text/html": [
       "<span class=\"tex2jax_ignore\"><div class=\"entities\" style=\"line-height: 2.5; direction: ltr\">\n",
       "<mark class=\"entity\" style=\"background: #7aecec; padding: 0.45em 0.6em; margin: 0 0.25em; line-height: 1; border-radius: 0.35em;\">\n",
       "    HelloFresh\n",
       "    <span style=\"font-size: 0.8em; font-weight: bold; line-height: 1; border-radius: 0.35em; vertical-align: middle; margin-left: 0.5rem\">ORG</span>\n",
       "</mark>\n",
       " is a new company.</div></span>"
      ],
      "text/plain": [
       "<IPython.core.display.HTML object>"
      ]
     },
     "metadata": {},
     "output_type": "display_data"
    }
   ],
   "source": [
    "doc=nlp(u\"HelloFresh is a new company.\")\n",
    "displacy.render(doc,style='ent',jupyter=True)"
   ]
  },
  {
   "cell_type": "code",
   "execution_count": null,
   "id": "c1886d8c",
   "metadata": {},
   "outputs": [],
   "source": [
    "# Section 5"
   ]
  },
  {
   "cell_type": "code",
   "execution_count": null,
   "id": "900eafd8",
   "metadata": {},
   "outputs": [],
   "source": [
    "#Text Classification\n",
    "#--y:label result(spam.ham)--x:feature to exam(some different sentents)"
   ]
  }
 ],
 "metadata": {
  "kernelspec": {
   "display_name": "Python 3 (ipykernel)",
   "language": "python",
   "name": "python3"
  },
  "language_info": {
   "codemirror_mode": {
    "name": "ipython",
    "version": 3
   },
   "file_extension": ".py",
   "mimetype": "text/x-python",
   "name": "python",
   "nbconvert_exporter": "python",
   "pygments_lexer": "ipython3",
   "version": "3.9.13"
  }
 },
 "nbformat": 4,
 "nbformat_minor": 5
}
